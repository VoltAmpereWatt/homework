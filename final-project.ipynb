{
 "cells": [
  {
   "cell_type": "code",
   "execution_count": 11,
   "metadata": {},
   "outputs": [],
   "source": [
    "API_KEY = '8ca4d6610151a0fdafac8d06e48617a00c7c8c0d'\n",
    "EMAIL = 'vebarex612@tmailcloud.com'"
   ]
  },
  {
   "cell_type": "code",
   "execution_count": 14,
   "metadata": {},
   "outputs": [
    {
     "name": "stdout",
     "output_type": "stream",
     "text": [
      "200\n",
      "[u'rank_list', u'app_name', u'timestamp', u'price', u'app_id', u'rank', u'avg_rating', u'country', u'publisher_name', u'publisher_id', u'icon_url']\n"
     ]
    }
   ],
   "source": [
    "# This example uses Python Requests library http://docs.python-requests.org/en/master/\n",
    "import requests\n",
    "import json\n",
    "\n",
    "# Request Parameters\n",
    "store = \"android\"       # Could be either \"android\" or \"itunes\".\n",
    "country_code = \"US\"     # Two letter country code.\n",
    "date = \"2019-11-20\"     # Date in YYYY-MM-DD format.\n",
    "app_id = ''\n",
    "req_params = {\"date\": date,\n",
    "              \"country\": country_code}\n",
    "\n",
    "# Auth Parameters\n",
    "username = API_KEY  # Replace {API_KEY} with your own API key.\n",
    "password = \"Rahul123\"          # Password can be anything.\n",
    "\n",
    "# Request URL\n",
    "request_url = \"https://api.appmonsta.com/v1/stores/%s/rankings.json\" % store\n",
    "\n",
    "# This header turns on compression to reduce the bandwidth usage and transfer time.\n",
    "headers = {'Accept-Encoding': 'deflate, gzip'}\n",
    "\n",
    "# Python Main Code Sample\n",
    "response = requests.get(request_url,\n",
    "                        auth=(username, password),\n",
    "                        params=req_params,\n",
    "                        headers=headers,\n",
    "                        stream=True)\n",
    "\n",
    "print response.status_code\n",
    "for line in response.iter_lines():\n",
    "    # Load json object and print it out\n",
    "    json_record = json.loads(line)\n",
    "#     print json_record\n",
    " \n",
    "print(json_record.keys())\n",
    "    "
   ]
  },
  {
   "cell_type": "code",
   "execution_count": 53,
   "metadata": {},
   "outputs": [],
   "source": [
    "def get_app_ids(store,APIKEY=API_KEY):\n",
    "    password = 'Rahul123'\n",
    "    url = 'https://api.appmonsta.com/v1/stores/%s/ids' % store\n",
    "    response = requests.get(url,\n",
    "                            auth=(APIKEY, password),\n",
    "                            headers={'Accept-Encoding': 'deflate, gzip'},\n",
    "                            stream=True)\n",
    "    return response.iter_lines()"
   ]
  },
  {
   "cell_type": "code",
   "execution_count": 84,
   "metadata": {},
   "outputs": [],
   "source": [
    "def get_app_details(app_id,store,country,APIKEY=API_KEY):\n",
    "    password = 'Rahul123'\n",
    "    req_params = {'country':country}\n",
    "    url = \"https://api.appmonsta.com/v1/stores/%s/details/%s.json\" % (store, app_id)\n",
    "    response = requests.get(url,\n",
    "                            auth=(APIKEY, password),\n",
    "                            params=req_params,\n",
    "                            headers={'Accept-Encoding': 'deflate, gzip'},\n",
    "                            stream=True)\n",
    "    return response.iter_lines()"
   ]
  },
  {
   "cell_type": "code",
   "execution_count": 69,
   "metadata": {},
   "outputs": [],
   "source": [
    "import requests\n",
    "import json\n",
    "from datetime import datetime,timedelta\n",
    "# Request Parameters\n",
    "store = \"android\"       # Could be either \"android\" or \"itunes\".\n",
    "country = 'US'\n",
    "date = str(datetime.today().date()+timedelta(-1))\n",
    "# Request URL\n",
    "\n",
    "app_ids = [line for line in get_app_ids('android')]\n"
   ]
  },
  {
   "cell_type": "code",
   "execution_count": 85,
   "metadata": {},
   "outputs": [],
   "source": [
    "response = get_app_details(app_ids[0],'android','US')\n"
   ]
  }
 ],
 "metadata": {
  "kernelspec": {
   "display_name": "Python 3",
   "language": "python",
   "name": "python3"
  },
  "language_info": {
   "codemirror_mode": {
    "name": "ipython",
    "version": 2
   },
   "file_extension": ".py",
   "mimetype": "text/x-python",
   "name": "python",
   "nbconvert_exporter": "python",
   "pygments_lexer": "ipython2",
   "version": "2.7.15+"
  }
 },
 "nbformat": 4,
 "nbformat_minor": 2
}
