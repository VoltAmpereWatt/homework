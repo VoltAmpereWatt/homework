{
 "cells": [
  {
   "cell_type": "markdown",
   "metadata": {
    "colab_type": "text",
    "id": "Ht8potB9fUAe"
   },
   "source": [
    "### Problem 6"
   ]
  },
  {
   "cell_type": "code",
   "execution_count": 0,
   "metadata": {
    "colab": {},
    "colab_type": "code",
    "id": "pTGtQAVMfUAn"
   },
   "outputs": [],
   "source": [
    "import numpy as np\n",
    "import matplotlib.pyplot as plt"
   ]
  },
  {
   "cell_type": "code",
   "execution_count": 0,
   "metadata": {
    "colab": {},
    "colab_type": "code",
    "id": "q5v1Kv4ofUAu"
   },
   "outputs": [],
   "source": [
    "(alpha, beta, iterations, max_error) = (0.01, 0.5, 1000, 0.001)"
   ]
  },
  {
   "cell_type": "code",
   "execution_count": 18,
   "metadata": {
    "colab": {
     "base_uri": "https://localhost:8080/",
     "height": 235
    },
    "colab_type": "code",
    "executionInfo": {
     "elapsed": 51255,
     "status": "error",
     "timestamp": 1556902833755,
     "user": {
      "displayName": "Rahul Ramachandran",
      "photoUrl": "https://lh6.googleusercontent.com/-G6GhoELyyOM/AAAAAAAAAAI/AAAAAAAAAGc/8dxq_LWTn78/s64/photo.jpg",
      "userId": "05530941502827241081"
     },
     "user_tz": 240
    },
    "id": "3PyLaPU-fUAx",
    "outputId": "f49f0598-1b1c-4879-aab4-ee2b31344a59"
   },
   "outputs": [
    {
     "ename": "KeyboardInterrupt",
     "evalue": "ignored",
     "output_type": "error",
     "traceback": [
      "\u001b[0;31m---------------------------------------------------------------------------\u001b[0m",
      "\u001b[0;31mKeyboardInterrupt\u001b[0m                         Traceback (most recent call last)",
      "\u001b[0;32m<ipython-input-18-395982d04cc2>\u001b[0m in \u001b[0;36m<module>\u001b[0;34m()\u001b[0m\n\u001b[1;32m     22\u001b[0m \u001b[0;31m#         temp2 = np.max(np.abs(np.add(x,t*v)))\u001b[0m\u001b[0;34m\u001b[0m\u001b[0;34m\u001b[0m\u001b[0;34m\u001b[0m\u001b[0m\n\u001b[1;32m     23\u001b[0m \u001b[0;31m# #         print(temp1,temp2,t)\u001b[0m\u001b[0;34m\u001b[0m\u001b[0;34m\u001b[0m\u001b[0;34m\u001b[0m\u001b[0m\n\u001b[0;32m---> 24\u001b[0;31m         \u001b[0mt\u001b[0m \u001b[0;34m=\u001b[0m \u001b[0mbeta\u001b[0m\u001b[0;34m*\u001b[0m\u001b[0mt\u001b[0m\u001b[0;34m\u001b[0m\u001b[0;34m\u001b[0m\u001b[0m\n\u001b[0m\u001b[1;32m     25\u001b[0m \u001b[0;31m#         print(t)\u001b[0m\u001b[0;34m\u001b[0m\u001b[0;34m\u001b[0m\u001b[0;34m\u001b[0m\u001b[0m\n\u001b[1;32m     26\u001b[0m \u001b[0;34m\u001b[0m\u001b[0m\n",
      "\u001b[0;31mKeyboardInterrupt\u001b[0m: "
     ]
    }
   ],
   "source": [
    "x = np.zeros([100,1])\n",
    "A = np.random.normal(loc = 0, scale = 1, size = [200,100])\n",
    "for i in range(iterations):\n",
    "    temp1 = np.sum('np.log(1-np.matmul(A,x)))\n",
    "    temp2 = np.sum(np.log(1+x))\n",
    "    temp3 = np.sum(np.log(1-x))\n",
    "    value = - temp1 - temp2 - temp3\n",
    "    temp1 = np.matmul(A.T,np.divide(1,np.subtract(1,np.matmul(A,x))))\n",
    "    temp2 = np.divide(1,np.add(1,x))\n",
    "    temp3 = np.divide(1,np.subtract(1,x))\n",
    "    gradient = temp1 - temp2 + temp3\n",
    "    if np.linalg.norm(gradient) < max_error:\n",
    "        break\n",
    "    v = -gradient\n",
    "    fprime = np.matmul(gradient.T,v)\n",
    "    t = 1\n",
    "    temp1 = np.max(np.matmul(A,np.add(x,t*v)))\n",
    "    temp2 = np.max(np.abs(np.add(x,t*v)))\n",
    "    while temp1 >= 1 or temp2 >= 1:\n",
    "#     for a in range(10):\n",
    "#         temp1 = np.max(np.matmul(A,np.add(x,t*v)))\n",
    "#         temp2 = np.max(np.abs(np.add(x,t*v)))\n",
    "# #         print(temp1,temp2,t)\n",
    "        t = beta*t\n",
    "#         print(t)\n",
    "        \n"
   ]
  },
  {
   "cell_type": "code",
   "execution_count": 5,
   "metadata": {
    "colab": {
     "base_uri": "https://localhost:8080/",
     "height": 35
    },
    "colab_type": "code",
    "executionInfo": {
     "elapsed": 300,
     "status": "ok",
     "timestamp": 1556900466291,
     "user": {
      "displayName": "Rahul Ramachandran",
      "photoUrl": "https://lh6.googleusercontent.com/-G6GhoELyyOM/AAAAAAAAAAI/AAAAAAAAAGc/8dxq_LWTn78/s64/photo.jpg",
      "userId": "05530941502827241081"
     },
     "user_tz": 240
    },
    "id": "ncLOsjyTfUA5",
    "outputId": "31d4bedc-bef9-4cbe-9857-866c1c67cff5"
   },
   "outputs": [
    {
     "data": {
      "text/plain": [
       "array([2, 3, 4])"
      ]
     },
     "execution_count": 5,
     "metadata": {
      "tags": []
     },
     "output_type": "execute_result"
    }
   ],
   "source": [
    "x = np.array([1,2,3])\n",
    "1+x"
   ]
  }
 ],
 "metadata": {
  "colab": {
   "collapsed_sections": [],
   "name": "homework5.ipynb",
   "provenance": [],
   "version": "0.3.2"
  },
  "kernelspec": {
   "display_name": "Python 3",
   "language": "python",
   "name": "python3"
  },
  "language_info": {
   "codemirror_mode": {
    "name": "ipython",
    "version": 3
   },
   "file_extension": ".py",
   "mimetype": "text/x-python",
   "name": "python",
   "nbconvert_exporter": "python",
   "pygments_lexer": "ipython3",
   "version": "3.6.8"
  }
 },
 "nbformat": 4,
 "nbformat_minor": 1
}
